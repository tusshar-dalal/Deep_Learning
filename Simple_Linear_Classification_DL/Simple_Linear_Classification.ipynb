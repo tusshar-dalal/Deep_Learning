{
 "cells": [
  {
   "cell_type": "code",
   "execution_count": 1,
   "metadata": {
    "colab": {},
    "colab_type": "code",
    "id": "Fj46c-2pDo5R"
   },
   "outputs": [],
   "source": [
    "from sklearn.datasets import load_breast_cancer # load the data"
   ]
  },
  {
   "cell_type": "code",
   "execution_count": 2,
   "metadata": {
    "colab": {},
    "colab_type": "code",
    "id": "JVAr1syuEo9N"
   },
   "outputs": [],
   "source": [
    "data = load_breast_cancer()"
   ]
  },
  {
   "cell_type": "code",
   "execution_count": 3,
   "metadata": {
    "colab": {
     "base_uri": "https://localhost:8080/",
     "height": 34
    },
    "colab_type": "code",
    "id": "nfac0xZ9EudG",
    "outputId": "9b49c7be-bcff-494b-b95e-e7ece9622b9c"
   },
   "outputs": [
    {
     "data": {
      "text/plain": [
       "sklearn.utils.Bunch"
      ]
     },
     "execution_count": 3,
     "metadata": {},
     "output_type": "execute_result"
    }
   ],
   "source": [
    "type(data) # Bunch object: Dictionary"
   ]
  },
  {
   "cell_type": "code",
   "execution_count": 4,
   "metadata": {
    "colab": {
     "base_uri": "https://localhost:8080/",
     "height": 34
    },
    "colab_type": "code",
    "id": "kMm042yyEzNJ",
    "outputId": "d734970c-bc7a-4637-d054-46b27fe4b911"
   },
   "outputs": [
    {
     "data": {
      "text/plain": [
       "dict_keys(['data', 'target', 'frame', 'target_names', 'DESCR', 'feature_names', 'filename'])"
      ]
     },
     "execution_count": 4,
     "metadata": {},
     "output_type": "execute_result"
    }
   ],
   "source": [
    "data.keys()"
   ]
  },
  {
   "cell_type": "code",
   "execution_count": 5,
   "metadata": {
    "colab": {
     "base_uri": "https://localhost:8080/",
     "height": 34
    },
    "colab_type": "code",
    "id": "UkytSNFEE-s1",
    "outputId": "c92d9e7b-cf43-4aef-fbe0-501d597ab27e"
   },
   "outputs": [
    {
     "data": {
      "text/plain": [
       "(569, 30)"
      ]
     },
     "execution_count": 5,
     "metadata": {},
     "output_type": "execute_result"
    }
   ],
   "source": [
    "data.data.shape"
   ]
  },
  {
   "cell_type": "code",
   "execution_count": 6,
   "metadata": {
    "colab": {
     "base_uri": "https://localhost:8080/",
     "height": 466
    },
    "colab_type": "code",
    "id": "3ISVfRnpFZmo",
    "outputId": "2dafa917-0c41-4b47-8aac-391e3cab66a3"
   },
   "outputs": [
    {
     "data": {
      "text/plain": [
       "array([0, 0, 0, 0, 0, 0, 0, 0, 0, 0, 0, 0, 0, 0, 0, 0, 0, 0, 0, 1, 1, 1,\n",
       "       0, 0, 0, 0, 0, 0, 0, 0, 0, 0, 0, 0, 0, 0, 0, 1, 0, 0, 0, 0, 0, 0,\n",
       "       0, 0, 1, 0, 1, 1, 1, 1, 1, 0, 0, 1, 0, 0, 1, 1, 1, 1, 0, 1, 0, 0,\n",
       "       1, 1, 1, 1, 0, 1, 0, 0, 1, 0, 1, 0, 0, 1, 1, 1, 0, 0, 1, 0, 0, 0,\n",
       "       1, 1, 1, 0, 1, 1, 0, 0, 1, 1, 1, 0, 0, 1, 1, 1, 1, 0, 1, 1, 0, 1,\n",
       "       1, 1, 1, 1, 1, 1, 1, 0, 0, 0, 1, 0, 0, 1, 1, 1, 0, 0, 1, 0, 1, 0,\n",
       "       0, 1, 0, 0, 1, 1, 0, 1, 1, 0, 1, 1, 1, 1, 0, 1, 1, 1, 1, 1, 1, 1,\n",
       "       1, 1, 0, 1, 1, 1, 1, 0, 0, 1, 0, 1, 1, 0, 0, 1, 1, 0, 0, 1, 1, 1,\n",
       "       1, 0, 1, 1, 0, 0, 0, 1, 0, 1, 0, 1, 1, 1, 0, 1, 1, 0, 0, 1, 0, 0,\n",
       "       0, 0, 1, 0, 0, 0, 1, 0, 1, 0, 1, 1, 0, 1, 0, 0, 0, 0, 1, 1, 0, 0,\n",
       "       1, 1, 1, 0, 1, 1, 1, 1, 1, 0, 0, 1, 1, 0, 1, 1, 0, 0, 1, 0, 1, 1,\n",
       "       1, 1, 0, 1, 1, 1, 1, 1, 0, 1, 0, 0, 0, 0, 0, 0, 0, 0, 0, 0, 0, 0,\n",
       "       0, 0, 1, 1, 1, 1, 1, 1, 0, 1, 0, 1, 1, 0, 1, 1, 0, 1, 0, 0, 1, 1,\n",
       "       1, 1, 1, 1, 1, 1, 1, 1, 1, 1, 1, 0, 1, 1, 0, 1, 0, 1, 1, 1, 1, 1,\n",
       "       1, 1, 1, 1, 1, 1, 1, 1, 1, 0, 1, 1, 1, 0, 1, 0, 1, 1, 1, 1, 0, 0,\n",
       "       0, 1, 1, 1, 1, 0, 1, 0, 1, 0, 1, 1, 1, 0, 1, 1, 1, 1, 1, 1, 1, 0,\n",
       "       0, 0, 1, 1, 1, 1, 1, 1, 1, 1, 1, 1, 1, 0, 0, 1, 0, 0, 0, 1, 0, 0,\n",
       "       1, 1, 1, 1, 1, 0, 1, 1, 1, 1, 1, 0, 1, 1, 1, 0, 1, 1, 0, 0, 1, 1,\n",
       "       1, 1, 1, 1, 0, 1, 1, 1, 1, 1, 1, 1, 0, 1, 1, 1, 1, 1, 0, 1, 1, 0,\n",
       "       1, 1, 1, 1, 1, 1, 1, 1, 1, 1, 1, 1, 0, 1, 0, 0, 1, 0, 1, 1, 1, 1,\n",
       "       1, 0, 1, 1, 0, 1, 0, 1, 1, 0, 1, 0, 1, 1, 1, 1, 1, 1, 1, 1, 0, 0,\n",
       "       1, 1, 1, 1, 1, 1, 0, 1, 1, 1, 1, 1, 1, 1, 1, 1, 1, 0, 1, 1, 1, 1,\n",
       "       1, 1, 1, 0, 1, 0, 1, 1, 0, 1, 1, 1, 1, 1, 0, 0, 1, 0, 1, 0, 1, 1,\n",
       "       1, 1, 1, 0, 1, 1, 0, 1, 0, 1, 0, 0, 1, 1, 1, 0, 1, 1, 1, 1, 1, 1,\n",
       "       1, 1, 1, 1, 1, 0, 1, 0, 0, 1, 1, 1, 1, 1, 1, 1, 1, 1, 1, 1, 1, 1,\n",
       "       1, 1, 1, 1, 1, 1, 1, 1, 1, 1, 1, 1, 0, 0, 0, 0, 0, 0, 1])"
      ]
     },
     "execution_count": 6,
     "metadata": {},
     "output_type": "execute_result"
    }
   ],
   "source": [
    "data.target"
   ]
  },
  {
   "cell_type": "code",
   "execution_count": 7,
   "metadata": {
    "colab": {
     "base_uri": "https://localhost:8080/",
     "height": 34
    },
    "colab_type": "code",
    "id": "4BTacqWGFeA-",
    "outputId": "544fce2d-6a19-4d56-87aa-7535d4b8eac9"
   },
   "outputs": [
    {
     "data": {
      "text/plain": [
       "array(['malignant', 'benign'], dtype='<U9')"
      ]
     },
     "execution_count": 7,
     "metadata": {},
     "output_type": "execute_result"
    }
   ],
   "source": [
    "data.target_names"
   ]
  },
  {
   "cell_type": "code",
   "execution_count": 8,
   "metadata": {
    "colab": {
     "base_uri": "https://localhost:8080/",
     "height": 34
    },
    "colab_type": "code",
    "id": "HQPlUb93Fnh0",
    "outputId": "53ade4d2-6eec-40e9-b232-532b1fc568d5"
   },
   "outputs": [
    {
     "data": {
      "text/plain": [
       "(569,)"
      ]
     },
     "execution_count": 8,
     "metadata": {},
     "output_type": "execute_result"
    }
   ],
   "source": [
    "data.target.shape"
   ]
  },
  {
   "cell_type": "code",
   "execution_count": 9,
   "metadata": {
    "colab": {
     "base_uri": "https://localhost:8080/",
     "height": 190
    },
    "colab_type": "code",
    "id": "xEs0Ja4CFte5",
    "outputId": "bb473c8e-738c-4f2d-af5a-0bd7477a144d"
   },
   "outputs": [
    {
     "data": {
      "text/plain": [
       "array(['mean radius', 'mean texture', 'mean perimeter', 'mean area',\n",
       "       'mean smoothness', 'mean compactness', 'mean concavity',\n",
       "       'mean concave points', 'mean symmetry', 'mean fractal dimension',\n",
       "       'radius error', 'texture error', 'perimeter error', 'area error',\n",
       "       'smoothness error', 'compactness error', 'concavity error',\n",
       "       'concave points error', 'symmetry error',\n",
       "       'fractal dimension error', 'worst radius', 'worst texture',\n",
       "       'worst perimeter', 'worst area', 'worst smoothness',\n",
       "       'worst compactness', 'worst concavity', 'worst concave points',\n",
       "       'worst symmetry', 'worst fractal dimension'], dtype='<U23')"
      ]
     },
     "execution_count": 9,
     "metadata": {},
     "output_type": "execute_result"
    }
   ],
   "source": [
    "data.feature_names"
   ]
  },
  {
   "cell_type": "code",
   "execution_count": 35,
   "metadata": {
    "colab": {},
    "colab_type": "code",
    "id": "j_i7214xFxg7"
   },
   "outputs": [],
   "source": [
    "from sklearn.model_selection import train_test_split\n",
    "X_train, X_test, y_train, y_test = train_test_split(data.data, data.target, test_size=0.33)"
   ]
  },
  {
   "cell_type": "code",
   "execution_count": 36,
   "metadata": {
    "colab": {},
    "colab_type": "code",
    "id": "TGhnI8VqGPNL"
   },
   "outputs": [],
   "source": [
    "N, D = X_train.shape"
   ]
  },
  {
   "cell_type": "code",
   "execution_count": 37,
   "metadata": {
    "colab": {
     "base_uri": "https://localhost:8080/",
     "height": 34
    },
    "colab_type": "code",
    "id": "63i4JcUZGg8D",
    "outputId": "2b7c1686-45f2-4780-f538-ac124ebbbedf"
   },
   "outputs": [
    {
     "data": {
      "text/plain": [
       "(381, 30)"
      ]
     },
     "execution_count": 37,
     "metadata": {},
     "output_type": "execute_result"
    }
   ],
   "source": [
    "N, D"
   ]
  },
  {
   "cell_type": "code",
   "execution_count": 13,
   "metadata": {
    "colab": {},
    "colab_type": "code",
    "id": "wonqDjuRGilS"
   },
   "outputs": [],
   "source": [
    "from sklearn.preprocessing import StandardScaler\n",
    "scaler = StandardScaler()\n",
    "X_train = scaler.fit_transform(X_train)\n",
    "X_test = scaler.transform(X_test)"
   ]
  },
  {
   "cell_type": "code",
   "execution_count": 16,
   "metadata": {
    "colab": {
     "base_uri": "https://localhost:8080/",
     "height": 34
    },
    "colab_type": "code",
    "id": "qx9ItxJjG--4",
    "outputId": "14ec968e-fb19-4f08-f6ab-547a75cb5715"
   },
   "outputs": [
    {
     "name": "stdout",
     "output_type": "stream",
     "text": [
      "2.3.1\n"
     ]
    }
   ],
   "source": [
    "import tensorflow as tf\n",
    "print(tf.__version__)"
   ]
  },
  {
   "cell_type": "markdown",
   "metadata": {
    "colab_type": "text",
    "id": "OfW0VOaXHylS"
   },
   "source": [
    "1. Input (Placeholder to specify the size of the input, D i.e 30)\n",
    "\n",
    "2. Dense (Hidden): main work happends here.\n",
    "\n",
    "Binary Pb-> Sigmoid at o/p"
   ]
  },
  {
   "cell_type": "code",
   "execution_count": 17,
   "metadata": {
    "colab": {},
    "colab_type": "code",
    "id": "QL8twugMHY4q"
   },
   "outputs": [],
   "source": [
    "# model = tf.keras.models.Sequential([\n",
    "#                                     tf.keras.Input(shape=(D,)),\n",
    "#                                     tf.keras.layers.Dense(1, activation='sigmoid')\n",
    "# ])\n",
    "\n",
    "# Second Method\n",
    "model = tf.keras.models.Sequential()\n",
    "model.add(tf.keras.layers.Dense(1,input_shape=(D,), activation='sigmoid'))"
   ]
  },
  {
   "cell_type": "code",
   "execution_count": 18,
   "metadata": {
    "colab": {},
    "colab_type": "code",
    "id": "WFaEfoqfKMwf"
   },
   "outputs": [],
   "source": [
    "model.compile(optimizer='adam',\n",
    "              loss='binary_crossentropy',\n",
    "              metrics=['accuracy']\n",
    "    )"
   ]
  },
  {
   "cell_type": "code",
   "execution_count": 27,
   "metadata": {
    "colab": {
     "base_uri": "https://localhost:8080/",
     "height": 1000
    },
    "colab_type": "code",
    "id": "--m2t5gSKuEL",
    "outputId": "babb0370-606d-414b-ee7a-8b64e2e2dad0"
   },
   "outputs": [
    {
     "name": "stdout",
     "output_type": "stream",
     "text": [
      "Epoch 1/100\n",
      "12/12 [==============================] - 0s 6ms/step - loss: 0.0495 - accuracy: 0.9895 - val_loss: 0.0579 - val_accuracy: 0.9840\n",
      "Epoch 2/100\n",
      "12/12 [==============================] - 0s 5ms/step - loss: 0.0495 - accuracy: 0.9895 - val_loss: 0.0579 - val_accuracy: 0.9840\n",
      "Epoch 3/100\n",
      "12/12 [==============================] - 0s 4ms/step - loss: 0.0495 - accuracy: 0.9895 - val_loss: 0.0579 - val_accuracy: 0.9840\n",
      "Epoch 4/100\n",
      "12/12 [==============================] - 0s 3ms/step - loss: 0.0495 - accuracy: 0.9895 - val_loss: 0.0578 - val_accuracy: 0.9840\n",
      "Epoch 5/100\n",
      "12/12 [==============================] - 0s 4ms/step - loss: 0.0494 - accuracy: 0.9895 - val_loss: 0.0579 - val_accuracy: 0.9840\n",
      "Epoch 6/100\n",
      "12/12 [==============================] - 0s 4ms/step - loss: 0.0494 - accuracy: 0.9895 - val_loss: 0.0579 - val_accuracy: 0.9840\n",
      "Epoch 7/100\n",
      "12/12 [==============================] - 0s 4ms/step - loss: 0.0494 - accuracy: 0.9895 - val_loss: 0.0579 - val_accuracy: 0.9840\n",
      "Epoch 8/100\n",
      "12/12 [==============================] - 0s 4ms/step - loss: 0.0494 - accuracy: 0.9895 - val_loss: 0.0579 - val_accuracy: 0.9840\n",
      "Epoch 9/100\n",
      "12/12 [==============================] - 0s 4ms/step - loss: 0.0493 - accuracy: 0.9895 - val_loss: 0.0579 - val_accuracy: 0.9840\n",
      "Epoch 10/100\n",
      "12/12 [==============================] - 0s 4ms/step - loss: 0.0493 - accuracy: 0.9895 - val_loss: 0.0580 - val_accuracy: 0.9840\n",
      "Epoch 11/100\n",
      "12/12 [==============================] - 0s 4ms/step - loss: 0.0493 - accuracy: 0.9895 - val_loss: 0.0579 - val_accuracy: 0.9840\n",
      "Epoch 12/100\n",
      "12/12 [==============================] - 0s 4ms/step - loss: 0.0493 - accuracy: 0.9895 - val_loss: 0.0579 - val_accuracy: 0.9840\n",
      "Epoch 13/100\n",
      "12/12 [==============================] - 0s 4ms/step - loss: 0.0492 - accuracy: 0.9895 - val_loss: 0.0579 - val_accuracy: 0.9840\n",
      "Epoch 14/100\n",
      "12/12 [==============================] - 0s 4ms/step - loss: 0.0493 - accuracy: 0.9895 - val_loss: 0.0579 - val_accuracy: 0.9840\n",
      "Epoch 15/100\n",
      "12/12 [==============================] - 0s 4ms/step - loss: 0.0493 - accuracy: 0.9895 - val_loss: 0.0579 - val_accuracy: 0.9840\n",
      "Epoch 16/100\n",
      "12/12 [==============================] - 0s 4ms/step - loss: 0.0492 - accuracy: 0.9895 - val_loss: 0.0579 - val_accuracy: 0.9840\n",
      "Epoch 17/100\n",
      "12/12 [==============================] - 0s 4ms/step - loss: 0.0491 - accuracy: 0.9895 - val_loss: 0.0579 - val_accuracy: 0.9840\n",
      "Epoch 18/100\n",
      "12/12 [==============================] - 0s 4ms/step - loss: 0.0491 - accuracy: 0.9895 - val_loss: 0.0579 - val_accuracy: 0.9840\n",
      "Epoch 19/100\n",
      "12/12 [==============================] - 0s 4ms/step - loss: 0.0491 - accuracy: 0.9895 - val_loss: 0.0579 - val_accuracy: 0.9840\n",
      "Epoch 20/100\n",
      "12/12 [==============================] - 0s 3ms/step - loss: 0.0491 - accuracy: 0.9895 - val_loss: 0.0580 - val_accuracy: 0.9840\n",
      "Epoch 21/100\n",
      "12/12 [==============================] - 0s 4ms/step - loss: 0.0490 - accuracy: 0.9895 - val_loss: 0.0580 - val_accuracy: 0.9840\n",
      "Epoch 22/100\n",
      "12/12 [==============================] - 0s 4ms/step - loss: 0.0490 - accuracy: 0.9895 - val_loss: 0.0580 - val_accuracy: 0.9840\n",
      "Epoch 23/100\n",
      "12/12 [==============================] - 0s 4ms/step - loss: 0.0490 - accuracy: 0.9895 - val_loss: 0.0581 - val_accuracy: 0.9840\n",
      "Epoch 24/100\n",
      "12/12 [==============================] - 0s 4ms/step - loss: 0.0490 - accuracy: 0.9921 - val_loss: 0.0580 - val_accuracy: 0.9840\n",
      "Epoch 25/100\n",
      "12/12 [==============================] - 0s 4ms/step - loss: 0.0490 - accuracy: 0.9921 - val_loss: 0.0581 - val_accuracy: 0.9840\n",
      "Epoch 26/100\n",
      "12/12 [==============================] - 0s 4ms/step - loss: 0.0490 - accuracy: 0.9921 - val_loss: 0.0580 - val_accuracy: 0.9840\n",
      "Epoch 27/100\n",
      "12/12 [==============================] - 0s 4ms/step - loss: 0.0489 - accuracy: 0.9921 - val_loss: 0.0581 - val_accuracy: 0.9840\n",
      "Epoch 28/100\n",
      "12/12 [==============================] - 0s 4ms/step - loss: 0.0489 - accuracy: 0.9921 - val_loss: 0.0581 - val_accuracy: 0.9840\n",
      "Epoch 29/100\n",
      "12/12 [==============================] - 0s 4ms/step - loss: 0.0489 - accuracy: 0.9921 - val_loss: 0.0580 - val_accuracy: 0.9840\n",
      "Epoch 30/100\n",
      "12/12 [==============================] - 0s 4ms/step - loss: 0.0489 - accuracy: 0.9921 - val_loss: 0.0581 - val_accuracy: 0.9840\n",
      "Epoch 31/100\n",
      "12/12 [==============================] - 0s 4ms/step - loss: 0.0488 - accuracy: 0.9921 - val_loss: 0.0581 - val_accuracy: 0.9840\n",
      "Epoch 32/100\n",
      "12/12 [==============================] - 0s 4ms/step - loss: 0.0488 - accuracy: 0.9921 - val_loss: 0.0581 - val_accuracy: 0.9840\n",
      "Epoch 33/100\n",
      "12/12 [==============================] - 0s 4ms/step - loss: 0.0488 - accuracy: 0.9921 - val_loss: 0.0581 - val_accuracy: 0.9840\n",
      "Epoch 34/100\n",
      "12/12 [==============================] - 0s 4ms/step - loss: 0.0488 - accuracy: 0.9921 - val_loss: 0.0580 - val_accuracy: 0.9840\n",
      "Epoch 35/100\n",
      "12/12 [==============================] - 0s 4ms/step - loss: 0.0487 - accuracy: 0.9921 - val_loss: 0.0580 - val_accuracy: 0.9840\n",
      "Epoch 36/100\n",
      "12/12 [==============================] - 0s 4ms/step - loss: 0.0487 - accuracy: 0.9921 - val_loss: 0.0580 - val_accuracy: 0.9840\n",
      "Epoch 37/100\n",
      "12/12 [==============================] - 0s 4ms/step - loss: 0.0487 - accuracy: 0.9921 - val_loss: 0.0581 - val_accuracy: 0.9840\n",
      "Epoch 38/100\n",
      "12/12 [==============================] - 0s 4ms/step - loss: 0.0487 - accuracy: 0.9921 - val_loss: 0.0581 - val_accuracy: 0.9840\n",
      "Epoch 39/100\n",
      "12/12 [==============================] - 0s 4ms/step - loss: 0.0486 - accuracy: 0.9921 - val_loss: 0.0581 - val_accuracy: 0.9840\n",
      "Epoch 40/100\n",
      "12/12 [==============================] - 0s 4ms/step - loss: 0.0486 - accuracy: 0.9921 - val_loss: 0.0581 - val_accuracy: 0.9840\n",
      "Epoch 41/100\n",
      "12/12 [==============================] - 0s 4ms/step - loss: 0.0486 - accuracy: 0.9921 - val_loss: 0.0582 - val_accuracy: 0.9840\n",
      "Epoch 42/100\n",
      "12/12 [==============================] - 0s 4ms/step - loss: 0.0486 - accuracy: 0.9921 - val_loss: 0.0582 - val_accuracy: 0.9840\n",
      "Epoch 43/100\n",
      "12/12 [==============================] - 0s 4ms/step - loss: 0.0486 - accuracy: 0.9921 - val_loss: 0.0581 - val_accuracy: 0.9840\n",
      "Epoch 44/100\n",
      "12/12 [==============================] - 0s 4ms/step - loss: 0.0485 - accuracy: 0.9921 - val_loss: 0.0581 - val_accuracy: 0.9840\n",
      "Epoch 45/100\n",
      "12/12 [==============================] - 0s 4ms/step - loss: 0.0485 - accuracy: 0.9921 - val_loss: 0.0582 - val_accuracy: 0.9840\n",
      "Epoch 46/100\n",
      "12/12 [==============================] - 0s 4ms/step - loss: 0.0486 - accuracy: 0.9921 - val_loss: 0.0581 - val_accuracy: 0.9840\n",
      "Epoch 47/100\n",
      "12/12 [==============================] - 0s 4ms/step - loss: 0.0485 - accuracy: 0.9921 - val_loss: 0.0582 - val_accuracy: 0.9840\n",
      "Epoch 48/100\n",
      "12/12 [==============================] - 0s 4ms/step - loss: 0.0485 - accuracy: 0.9921 - val_loss: 0.0582 - val_accuracy: 0.9840\n",
      "Epoch 49/100\n",
      "12/12 [==============================] - 0s 3ms/step - loss: 0.0484 - accuracy: 0.9921 - val_loss: 0.0582 - val_accuracy: 0.9840\n",
      "Epoch 50/100\n",
      "12/12 [==============================] - 0s 4ms/step - loss: 0.0484 - accuracy: 0.9921 - val_loss: 0.0582 - val_accuracy: 0.9840\n",
      "Epoch 51/100\n",
      "12/12 [==============================] - 0s 4ms/step - loss: 0.0484 - accuracy: 0.9921 - val_loss: 0.0582 - val_accuracy: 0.9840\n",
      "Epoch 52/100\n",
      "12/12 [==============================] - 0s 5ms/step - loss: 0.0484 - accuracy: 0.9921 - val_loss: 0.0582 - val_accuracy: 0.9840\n",
      "Epoch 53/100\n",
      "12/12 [==============================] - 0s 5ms/step - loss: 0.0484 - accuracy: 0.9921 - val_loss: 0.0582 - val_accuracy: 0.9840\n",
      "Epoch 54/100\n",
      "12/12 [==============================] - 0s 4ms/step - loss: 0.0483 - accuracy: 0.9921 - val_loss: 0.0582 - val_accuracy: 0.9840\n",
      "Epoch 55/100\n",
      "12/12 [==============================] - 0s 4ms/step - loss: 0.0483 - accuracy: 0.9921 - val_loss: 0.0582 - val_accuracy: 0.9840\n",
      "Epoch 56/100\n",
      "12/12 [==============================] - 0s 5ms/step - loss: 0.0483 - accuracy: 0.9921 - val_loss: 0.0582 - val_accuracy: 0.9840\n",
      "Epoch 57/100\n",
      "12/12 [==============================] - 0s 4ms/step - loss: 0.0483 - accuracy: 0.9921 - val_loss: 0.0582 - val_accuracy: 0.9840\n",
      "Epoch 58/100\n",
      "12/12 [==============================] - 0s 4ms/step - loss: 0.0483 - accuracy: 0.9921 - val_loss: 0.0583 - val_accuracy: 0.9840\n"
     ]
    },
    {
     "name": "stdout",
     "output_type": "stream",
     "text": [
      "Epoch 59/100\n",
      "12/12 [==============================] - 0s 4ms/step - loss: 0.0483 - accuracy: 0.9921 - val_loss: 0.0583 - val_accuracy: 0.9840\n",
      "Epoch 60/100\n",
      "12/12 [==============================] - 0s 3ms/step - loss: 0.0482 - accuracy: 0.9921 - val_loss: 0.0584 - val_accuracy: 0.9840\n",
      "Epoch 61/100\n",
      "12/12 [==============================] - 0s 3ms/step - loss: 0.0482 - accuracy: 0.9921 - val_loss: 0.0583 - val_accuracy: 0.9840\n",
      "Epoch 62/100\n",
      "12/12 [==============================] - 0s 3ms/step - loss: 0.0482 - accuracy: 0.9921 - val_loss: 0.0583 - val_accuracy: 0.9840\n",
      "Epoch 63/100\n",
      "12/12 [==============================] - 0s 3ms/step - loss: 0.0482 - accuracy: 0.9921 - val_loss: 0.0583 - val_accuracy: 0.9840\n",
      "Epoch 64/100\n",
      "12/12 [==============================] - 0s 3ms/step - loss: 0.0481 - accuracy: 0.9921 - val_loss: 0.0583 - val_accuracy: 0.9840\n",
      "Epoch 65/100\n",
      "12/12 [==============================] - 0s 3ms/step - loss: 0.0481 - accuracy: 0.9921 - val_loss: 0.0583 - val_accuracy: 0.9840\n",
      "Epoch 66/100\n",
      "12/12 [==============================] - 0s 3ms/step - loss: 0.0481 - accuracy: 0.9921 - val_loss: 0.0583 - val_accuracy: 0.9840\n",
      "Epoch 67/100\n",
      "12/12 [==============================] - 0s 4ms/step - loss: 0.0481 - accuracy: 0.9921 - val_loss: 0.0583 - val_accuracy: 0.9840\n",
      "Epoch 68/100\n",
      "12/12 [==============================] - 0s 4ms/step - loss: 0.0481 - accuracy: 0.9921 - val_loss: 0.0583 - val_accuracy: 0.9840\n",
      "Epoch 69/100\n",
      "12/12 [==============================] - 0s 3ms/step - loss: 0.0480 - accuracy: 0.9921 - val_loss: 0.0583 - val_accuracy: 0.9840\n",
      "Epoch 70/100\n",
      "12/12 [==============================] - 0s 4ms/step - loss: 0.0480 - accuracy: 0.9921 - val_loss: 0.0583 - val_accuracy: 0.9840\n",
      "Epoch 71/100\n",
      "12/12 [==============================] - 0s 3ms/step - loss: 0.0480 - accuracy: 0.9921 - val_loss: 0.0583 - val_accuracy: 0.9840\n",
      "Epoch 72/100\n",
      "12/12 [==============================] - 0s 4ms/step - loss: 0.0480 - accuracy: 0.9921 - val_loss: 0.0583 - val_accuracy: 0.9840\n",
      "Epoch 73/100\n",
      "12/12 [==============================] - 0s 4ms/step - loss: 0.0480 - accuracy: 0.9921 - val_loss: 0.0583 - val_accuracy: 0.9840\n",
      "Epoch 74/100\n",
      "12/12 [==============================] - 0s 4ms/step - loss: 0.0480 - accuracy: 0.9921 - val_loss: 0.0584 - val_accuracy: 0.9840\n",
      "Epoch 75/100\n",
      "12/12 [==============================] - 0s 4ms/step - loss: 0.0479 - accuracy: 0.9921 - val_loss: 0.0584 - val_accuracy: 0.9840\n",
      "Epoch 76/100\n",
      "12/12 [==============================] - 0s 3ms/step - loss: 0.0479 - accuracy: 0.9921 - val_loss: 0.0584 - val_accuracy: 0.9840\n",
      "Epoch 77/100\n",
      "12/12 [==============================] - 0s 3ms/step - loss: 0.0479 - accuracy: 0.9921 - val_loss: 0.0584 - val_accuracy: 0.9840\n",
      "Epoch 78/100\n",
      "12/12 [==============================] - 0s 3ms/step - loss: 0.0479 - accuracy: 0.9921 - val_loss: 0.0584 - val_accuracy: 0.9840\n",
      "Epoch 79/100\n",
      "12/12 [==============================] - 0s 3ms/step - loss: 0.0478 - accuracy: 0.9921 - val_loss: 0.0585 - val_accuracy: 0.9840\n",
      "Epoch 80/100\n",
      "12/12 [==============================] - 0s 4ms/step - loss: 0.0478 - accuracy: 0.9921 - val_loss: 0.0585 - val_accuracy: 0.9840\n",
      "Epoch 81/100\n",
      "12/12 [==============================] - 0s 3ms/step - loss: 0.0479 - accuracy: 0.9921 - val_loss: 0.0584 - val_accuracy: 0.9840\n",
      "Epoch 82/100\n",
      "12/12 [==============================] - 0s 4ms/step - loss: 0.0478 - accuracy: 0.9921 - val_loss: 0.0585 - val_accuracy: 0.9840\n",
      "Epoch 83/100\n",
      "12/12 [==============================] - 0s 4ms/step - loss: 0.0477 - accuracy: 0.9921 - val_loss: 0.0584 - val_accuracy: 0.9840\n",
      "Epoch 84/100\n",
      "12/12 [==============================] - 0s 4ms/step - loss: 0.0477 - accuracy: 0.9921 - val_loss: 0.0585 - val_accuracy: 0.9840\n",
      "Epoch 85/100\n",
      "12/12 [==============================] - 0s 4ms/step - loss: 0.0477 - accuracy: 0.9921 - val_loss: 0.0585 - val_accuracy: 0.9840\n",
      "Epoch 86/100\n",
      "12/12 [==============================] - 0s 4ms/step - loss: 0.0477 - accuracy: 0.9921 - val_loss: 0.0585 - val_accuracy: 0.9840\n",
      "Epoch 87/100\n",
      "12/12 [==============================] - 0s 3ms/step - loss: 0.0477 - accuracy: 0.9921 - val_loss: 0.0584 - val_accuracy: 0.9840\n",
      "Epoch 88/100\n",
      "12/12 [==============================] - 0s 3ms/step - loss: 0.0476 - accuracy: 0.9921 - val_loss: 0.0585 - val_accuracy: 0.9840\n",
      "Epoch 89/100\n",
      "12/12 [==============================] - 0s 4ms/step - loss: 0.0477 - accuracy: 0.9921 - val_loss: 0.0586 - val_accuracy: 0.9840\n",
      "Epoch 90/100\n",
      "12/12 [==============================] - 0s 4ms/step - loss: 0.0476 - accuracy: 0.9921 - val_loss: 0.0585 - val_accuracy: 0.9840\n",
      "Epoch 91/100\n",
      "12/12 [==============================] - 0s 4ms/step - loss: 0.0476 - accuracy: 0.9921 - val_loss: 0.0585 - val_accuracy: 0.9840\n",
      "Epoch 92/100\n",
      "12/12 [==============================] - 0s 4ms/step - loss: 0.0476 - accuracy: 0.9921 - val_loss: 0.0585 - val_accuracy: 0.9840\n",
      "Epoch 93/100\n",
      "12/12 [==============================] - 0s 4ms/step - loss: 0.0476 - accuracy: 0.9921 - val_loss: 0.0585 - val_accuracy: 0.9840\n",
      "Epoch 94/100\n",
      "12/12 [==============================] - 0s 4ms/step - loss: 0.0476 - accuracy: 0.9921 - val_loss: 0.0586 - val_accuracy: 0.9840\n",
      "Epoch 95/100\n",
      "12/12 [==============================] - 0s 4ms/step - loss: 0.0475 - accuracy: 0.9921 - val_loss: 0.0586 - val_accuracy: 0.9840\n",
      "Epoch 96/100\n",
      "12/12 [==============================] - 0s 3ms/step - loss: 0.0475 - accuracy: 0.9921 - val_loss: 0.0586 - val_accuracy: 0.9840\n",
      "Epoch 97/100\n",
      "12/12 [==============================] - 0s 4ms/step - loss: 0.0475 - accuracy: 0.9921 - val_loss: 0.0586 - val_accuracy: 0.9840\n",
      "Epoch 98/100\n",
      "12/12 [==============================] - 0s 5ms/step - loss: 0.0475 - accuracy: 0.9921 - val_loss: 0.0586 - val_accuracy: 0.9840\n",
      "Epoch 99/100\n",
      "12/12 [==============================] - 0s 3ms/step - loss: 0.0475 - accuracy: 0.9921 - val_loss: 0.0586 - val_accuracy: 0.9840\n",
      "Epoch 100/100\n",
      "12/12 [==============================] - 0s 4ms/step - loss: 0.0475 - accuracy: 0.9921 - val_loss: 0.0586 - val_accuracy: 0.9840\n"
     ]
    }
   ],
   "source": [
    "# Train the model for 100 times i.e 100 epochs\n",
    "r = model.fit(X_train, y_train, validation_data=(X_test, y_test), epochs=100)"
   ]
  },
  {
   "cell_type": "code",
   "execution_count": 28,
   "metadata": {
    "colab": {
     "base_uri": "https://localhost:8080/",
     "height": 52
    },
    "colab_type": "code",
    "id": "4IYRiV1_MDyQ",
    "outputId": "1c92bc8e-c5a8-4dd6-d1b3-3e0f668a2698"
   },
   "outputs": [
    {
     "name": "stdout",
     "output_type": "stream",
     "text": [
      "12/12 [==============================] - 0s 1ms/step - loss: 0.0474 - accuracy: 0.9921\n"
     ]
    },
    {
     "data": {
      "text/plain": [
       "[0.047361113131046295, 0.9921259880065918]"
      ]
     },
     "execution_count": 28,
     "metadata": {},
     "output_type": "execute_result"
    }
   ],
   "source": [
    "# Train Score\n",
    "model.evaluate(X_train, y_train)"
   ]
  },
  {
   "cell_type": "code",
   "execution_count": 29,
   "metadata": {
    "colab": {
     "base_uri": "https://localhost:8080/",
     "height": 52
    },
    "colab_type": "code",
    "id": "dlenH50LM9MD",
    "outputId": "933c3017-bc45-4f82-cd59-f2d783bf7075"
   },
   "outputs": [
    {
     "name": "stdout",
     "output_type": "stream",
     "text": [
      "6/6 [==============================] - 0s 2ms/step - loss: 0.0586 - accuracy: 0.9840\n"
     ]
    },
    {
     "data": {
      "text/plain": [
       "[0.05864639952778816, 0.9840425252914429]"
      ]
     },
     "execution_count": 29,
     "metadata": {},
     "output_type": "execute_result"
    }
   ],
   "source": [
    "# Test Score\n",
    "model.evaluate(X_test, y_test)"
   ]
  },
  {
   "cell_type": "code",
   "execution_count": 30,
   "metadata": {
    "colab": {
     "base_uri": "https://localhost:8080/",
     "height": 295
    },
    "colab_type": "code",
    "id": "4I1E--5ZNK3L",
    "outputId": "f9efac1a-f92d-433b-ce7d-3c994c3e41b6"
   },
   "outputs": [
    {
     "data": {
      "image/png": "[encoded data removed]",
      "text/plain": [
       "<Figure size 432x288 with 1 Axes>"
      ]
     },
     "metadata": {
      "needs_background": "light"
     },
     "output_type": "display_data"
    }
   ],
   "source": [
    "import matplotlib.pyplot as plt\n",
    "plt.plot(r.history['loss'], label='loss')\n",
    "plt.plot(r.history['val_loss'], label='val_loss')\n",
    "plt.title(\"Loss and Validation Loss vs Iterations\", loc='center')\n",
    "plt.xlabel('Loss and Validation Loss')\n",
    "plt.ylabel(\"Iterations\")\n",
    "plt.legend();"
   ]
  },
  {
   "cell_type": "code",
   "execution_count": 31,
   "metadata": {
    "colab": {
     "base_uri": "https://localhost:8080/",
     "height": 295
    },
    "colab_type": "code",
    "id": "c87WHd47Npte",
    "outputId": "57388739-b5b4-4b3a-eb30-a3c19d3de677"
   },
   "outputs": [
    {
     "data": {
      "image/png": "[encoded data removed]",
      "text/plain": [
       "<Figure size 432x288 with 1 Axes>"
      ]
     },
     "metadata": {
      "needs_background": "light"
     },
     "output_type": "display_data"
    }
   ],
   "source": [
    "plt.plot(r.history['accuracy'], label='acc')\n",
    "plt.plot(r.history['val_accuracy'], label='val_acc')\n",
    "plt.title(\"Accuracy and Validation Accuracy vs Iterations\", loc='center')\n",
    "plt.xlabel('Accuracy and Validation Accuracy')\n",
    "plt.ylabel(\"Iterations\")\n",
    "plt.legend();"
   ]
  },
  {
   "cell_type": "code",
   "execution_count": 32,
   "metadata": {
    "colab": {
     "base_uri": "https://localhost:8080/",
     "height": 1000
    },
    "colab_type": "code",
    "id": "ngt9uqp5OxP8",
    "outputId": "38edb7d2-db0c-4a90-ea96-7ae633982905"
   },
   "outputs": [
    {
     "name": "stdout",
     "output_type": "stream",
     "text": [
      "[[1.50718797e-08]\n",
      " [2.89255321e-01]\n",
      " [9.99457061e-01]\n",
      " [2.51293182e-04]\n",
      " [5.40293286e-06]\n",
      " [9.99999166e-01]\n",
      " [9.99996185e-01]\n",
      " [9.99999106e-01]\n",
      " [4.07531653e-09]\n",
      " [9.99413848e-01]\n",
      " [9.24877822e-02]\n",
      " [9.99977410e-01]\n",
      " [9.99711275e-01]\n",
      " [9.99613464e-01]\n",
      " [6.86371495e-05]\n",
      " [9.49631691e-01]\n",
      " [4.03153261e-10]\n",
      " [9.99901056e-01]\n",
      " [9.69465494e-01]\n",
      " [9.36084867e-01]\n",
      " [4.57935929e-02]\n",
      " [5.78537547e-05]\n",
      " [4.33788896e-02]\n",
      " [4.63257464e-07]\n",
      " [9.97430921e-01]\n",
      " [9.93981123e-01]\n",
      " [9.99992013e-01]\n",
      " [9.99993682e-01]\n",
      " [2.60467568e-05]\n",
      " [9.98790145e-01]\n",
      " [4.86236393e-01]\n",
      " [2.19911337e-03]\n",
      " [8.05358171e-01]\n",
      " [4.62785465e-05]\n",
      " [1.63855958e-07]\n",
      " [9.96128201e-01]\n",
      " [2.74685419e-07]\n",
      " [9.98504519e-01]\n",
      " [5.37555650e-07]\n",
      " [9.99566317e-01]\n",
      " [9.99705374e-01]\n",
      " [9.96376038e-01]\n",
      " [9.98872995e-01]\n",
      " [9.95714962e-01]\n",
      " [9.92277622e-01]\n",
      " [4.48465347e-04]\n",
      " [1.99123164e-07]\n",
      " [2.11793358e-05]\n",
      " [9.99870181e-01]\n",
      " [9.92237210e-01]\n",
      " [9.99782622e-01]\n",
      " [1.44839287e-04]\n",
      " [9.99523282e-01]\n",
      " [9.89377260e-01]\n",
      " [9.99993801e-01]\n",
      " [9.99985635e-01]\n",
      " [8.39256008e-12]\n",
      " [9.99969721e-01]\n",
      " [9.20417726e-01]\n",
      " [9.99993443e-01]\n",
      " [9.99915481e-01]\n",
      " [9.99797344e-01]\n",
      " [1.16052067e-22]\n",
      " [9.96846080e-01]\n",
      " [9.66348410e-01]\n",
      " [9.99994397e-01]\n",
      " [6.99538589e-02]\n",
      " [8.98579776e-01]\n",
      " [9.97115850e-01]\n",
      " [5.31375408e-04]\n",
      " [9.97637630e-01]\n",
      " [9.99928951e-01]\n",
      " [3.30443832e-08]\n",
      " [9.99992013e-01]\n",
      " [9.99993324e-01]\n",
      " [6.06387138e-01]\n",
      " [9.99649167e-01]\n",
      " [1.25567913e-02]\n",
      " [9.99762118e-01]\n",
      " [9.59178567e-01]\n",
      " [9.99992609e-01]\n",
      " [5.97026110e-01]\n",
      " [9.99939740e-01]\n",
      " [3.33257788e-07]\n",
      " [7.37160644e-06]\n",
      " [9.99985218e-01]\n",
      " [1.53281690e-05]\n",
      " [9.87928152e-01]\n",
      " [9.91995633e-01]\n",
      " [8.88023496e-01]\n",
      " [1.00000000e+00]\n",
      " [9.99997258e-01]\n",
      " [5.82405455e-16]\n",
      " [9.99992549e-01]\n",
      " [9.39715862e-01]\n",
      " [8.92335951e-01]\n",
      " [9.99958158e-01]\n",
      " [9.99996185e-01]\n",
      " [3.12536955e-04]\n",
      " [9.99996185e-01]\n",
      " [1.67191029e-04]\n",
      " [9.99939442e-01]\n",
      " [9.99997258e-01]\n",
      " [9.75430489e-01]\n",
      " [4.54643369e-03]\n",
      " [9.99964237e-01]\n",
      " [9.99953747e-01]\n",
      " [1.79550352e-05]\n",
      " [9.96894896e-01]\n",
      " [9.91127014e-01]\n",
      " [1.07812893e-05]\n",
      " [1.11260342e-04]\n",
      " [9.99939740e-01]\n",
      " [5.78837872e-01]\n",
      " [9.86134291e-01]\n",
      " [9.99822676e-01]\n",
      " [9.95409966e-01]\n",
      " [2.33957253e-05]\n",
      " [9.99997258e-01]\n",
      " [1.45226717e-04]\n",
      " [9.99581218e-01]\n",
      " [9.99990702e-01]\n",
      " [2.84160137e-01]\n",
      " [5.89040637e-01]\n",
      " [9.93666649e-01]\n",
      " [9.91476536e-01]\n",
      " [9.99879897e-01]\n",
      " [2.29489094e-10]\n",
      " [9.99986291e-01]\n",
      " [9.99999285e-01]\n",
      " [9.99460220e-01]\n",
      " [2.94715166e-04]\n",
      " [9.99977827e-01]\n",
      " [9.99756515e-01]\n",
      " [9.95968342e-01]\n",
      " [9.33688402e-01]\n",
      " [4.62665713e-13]\n",
      " [9.99770701e-01]\n",
      " [9.89522696e-01]\n",
      " [9.98640180e-01]\n",
      " [9.99975801e-01]\n",
      " [9.29578505e-07]\n",
      " [9.77110684e-01]\n",
      " [9.86139297e-01]\n",
      " [9.99538064e-01]\n",
      " [9.98261392e-01]\n",
      " [9.96007681e-01]\n",
      " [9.99386430e-01]\n",
      " [2.86086333e-06]\n",
      " [1.20085826e-08]\n",
      " [9.80192423e-02]\n",
      " [1.14595828e-07]\n",
      " [8.76318700e-06]\n",
      " [3.74908447e-02]\n",
      " [4.47154045e-04]\n",
      " [1.06806147e-06]\n",
      " [8.09887648e-01]\n",
      " [1.14335656e-01]\n",
      " [4.07977325e-07]\n",
      " [1.56602624e-08]\n",
      " [6.13415182e-01]\n",
      " [9.91800070e-01]\n",
      " [9.99312043e-01]\n",
      " [6.52396807e-07]\n",
      " [1.64201260e-02]\n",
      " [9.99772668e-01]\n",
      " [9.99983668e-01]\n",
      " [3.90208662e-01]\n",
      " [9.99984026e-01]\n",
      " [7.09265471e-04]\n",
      " [5.33491948e-05]\n",
      " [9.86276507e-01]\n",
      " [9.99780357e-01]\n",
      " [9.99869406e-01]\n",
      " [9.99972820e-01]\n",
      " [9.80834484e-01]\n",
      " [2.35969994e-10]\n",
      " [9.99944925e-01]\n",
      " [9.98012424e-01]\n",
      " [9.99974132e-01]\n",
      " [9.99977946e-01]\n",
      " [6.76913440e-01]\n",
      " [9.99995828e-01]\n",
      " [9.99962091e-01]\n",
      " [9.99999225e-01]\n",
      " [9.99977231e-01]\n",
      " [9.99960780e-01]\n",
      " [2.55174982e-05]]\n"
     ]
    }
   ],
   "source": [
    "# Make Predictions\n",
    "y_pred = model.predict(X_test)\n",
    "print(y_pred)"
   ]
  },
  {
   "cell_type": "code",
   "execution_count": 33,
   "metadata": {
    "colab": {
     "base_uri": "https://localhost:8080/",
     "height": 34
    },
    "colab_type": "code",
    "id": "1ph0EqlQPLfS",
    "outputId": "026eda1e-0edc-438d-a59d-568ce6061e83"
   },
   "outputs": [
    {
     "data": {
      "text/plain": [
       "0.986759424"
      ]
     },
     "execution_count": 33,
     "metadata": {},
     "output_type": "execute_result"
    }
   ],
   "source": [
    "9.86759424e-01"
   ]
  },
  {
   "cell_type": "code",
   "execution_count": 34,
   "metadata": {
    "colab": {
     "base_uri": "https://localhost:8080/",
     "height": 34
    },
    "colab_type": "code",
    "id": "7cz_K7hHPRkB",
    "outputId": "b0cd4745-db58-4e23-f7ef-ad1b1c981120"
   },
   "outputs": [
    {
     "data": {
      "text/plain": [
       "0.00233930349"
      ]
     },
     "execution_count": 34,
     "metadata": {},
     "output_type": "execute_result"
    }
   ],
   "source": [
    "2.33930349e-03"
   ]
  },
  {
   "cell_type": "code",
   "execution_count": null,
   "metadata": {},
   "outputs": [],
   "source": []
  }
 ],
 "metadata": {
  "colab": {
   "collapsed_sections": [],
   "name": "1 Linear_Classification.ipynb",
   "provenance": []
  },
  "kernelspec": {
   "display_name": "Python 3",
   "language": "python",
   "name": "python3"
  },
  "language_info": {
   "codemirror_mode": {
    "name": "ipython",
    "version": 3
   },
   "file_extension": ".py",
   "mimetype": "text/x-python",
   "name": "python",
   "nbconvert_exporter": "python",
   "pygments_lexer": "ipython3",
   "version": "3.8.3"
  },
  "toc": {
   "base_numbering": 1,
   "nav_menu": {},
   "number_sections": true,
   "sideBar": true,
   "skip_h1_title": false,
   "title_cell": "Table of Contents",
   "title_sidebar": "Contents",
   "toc_cell": false,
   "toc_position": {},
   "toc_section_display": true,
   "toc_window_display": false
  },
  "varInspector": {
   "cols": {
    "lenName": 16,
    "lenType": 16,
    "lenVar": 40
   },
   "kernels_config": {
    "python": {
     "delete_cmd_postfix": "",
     "delete_cmd_prefix": "del ",
     "library": "var_list.py",
     "varRefreshCmd": "print(var_dic_list())"
    },
    "r": {
     "delete_cmd_postfix": ") ",
     "delete_cmd_prefix": "rm(",
     "library": "var_list.r",
     "varRefreshCmd": "cat(var_dic_list()) "
    }
   },
   "types_to_exclude": [
    "module",
    "function",
    "builtin_function_or_method",
    "instance",
    "_Feature"
   ],
   "window_display": false
  }
 },
 "nbformat": 4,
 "nbformat_minor": 1
}
